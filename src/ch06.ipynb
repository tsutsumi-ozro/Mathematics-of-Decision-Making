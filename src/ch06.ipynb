{
 "cells": [
  {
   "cell_type": "code",
   "execution_count": 8,
   "id": "0608d878-8ee3-4408-b064-5b2a0f205143",
   "metadata": {
    "tags": []
   },
   "outputs": [],
   "source": [
    "import numpy as np\n",
    "import matplotlib.pyplot as plt\n",
    "%matplotlib inline\n",
    "import pandas as pd\n",
    "import seaborn as sns\n",
    "from itertools import chain"
   ]
  },
  {
   "cell_type": "markdown",
   "id": "68d71d46-f70a-4293-9b56-b8c781ccf963",
   "metadata": {},
   "source": [
    "## 6.3 ヒューリスティック探索\n",
    "### 6.3.1 最良優先探索"
   ]
  },
  {
   "cell_type": "code",
   "execution_count": 24,
   "id": "30ba51be-0f66-4014-bba8-92ea8fda2697",
   "metadata": {},
   "outputs": [
    {
     "name": "stdout",
     "output_type": "stream",
     "text": [
      "0 [1, 5] [6, 6] 0 1\n",
      "1 [0, 2, 6] [7, 5, 5] 1 2\n",
      "2 [1, 3, 7] [6, 4, 4] 1 3\n",
      "3 [2, 4, 8] [5, 5, 3] 2 8\n",
      "8 [7, 9, 3, 13] [4, 4, 4, 2] 3 13\n",
      "13 [12, 14, 8, 18] [3, 3, 3, 1] 3 18\n",
      "18 [17, 19, 13, 23] [2, 2, 2, 0] 3 23\n",
      "close_list:\n",
      " [0, 1, 2, 3, 8, 13, 18]\n",
      "prev:\n",
      " [-1, 0, 1, 2, -1, -1, -1, -1, 3, -1, -1, -1, -1, 8, -1, -1, -1, -1, 13, -1, -1, -1, -1, 18, -1]\n"
     ]
    }
   ],
   "source": [
    "connect = [[1, 5], [0, 2, 6], [1, 3, 7], [2, 4, 8], [3, 9],\n",
    "        [6, 0, 10], [5, 7, 1, 11], [6, 8, 2, 12], [7, 9, 3, 13], [8, 4, 14],\n",
    "        [11, 5, 15], [10, 12, 6, 16], [11, 13, 7, 17], [12, 14, 8, 18], [13, 9, 19],\n",
    "        [16, 10, 20], [15, 17, 11, 21], [16, 18, 12, 22], [17, 19, 13, 23], [18, 14, 24],\n",
    "        [21, 15], [20, 22, 16], [21, 23, 17], [22, 24, 18], [23, 19]]\n",
    "\n",
    "width = 5\n",
    "height = 5\n",
    "goal = 23\n",
    "hn = []\n",
    "\n",
    "def manhattan_distance(i, height, width, goal):\n",
    "    return np.abs(i//height - goal//height) + np.abs(i%width - goal%width)\n",
    "\n",
    "# max(chain(*connect))はconnectの中の最大値を抜き出してるだけ.\n",
    "for i in range(max(chain(*connect)) + 1):\n",
    "    hn.append(manhattan_distance(i, height, width, goal))\n",
    "\n",
    "prev = [-1]*(max(chain(*connect)) + 1)\n",
    "open_list = [0]\n",
    "close_list = []\n",
    "\n",
    "while open_list:\n",
    "    now = open_list.pop(0)\n",
    "    close_list.append(now)\n",
    "    a = [hn[i] for i in connect[now]]\n",
    "    b = np.argsort(a)[0]\n",
    "    c = connect[now][b]\n",
    "    print(now, connect[now], a, b, c)\n",
    "    prev[c] = now\n",
    "    open_list.append(c)\n",
    "    if c==goal:\n",
    "        break\n",
    "\n",
    "\n",
    "print(f'close_list:\\n {close_list}')\n",
    "print(f'prev:\\n {prev}')"
   ]
  },
  {
   "cell_type": "code",
   "execution_count": 28,
   "id": "f52a5603",
   "metadata": {},
   "outputs": [
    {
     "name": "stdout",
     "output_type": "stream",
     "text": [
      "[7, 6, 5, 4, 5]\n",
      "[6, 5, 4, 3, 4]\n",
      "[5, 4, 3, 2, 3]\n",
      "[4, 3, 2, 1, 2]\n",
      "[3, 2, 1, 0, 1]\n"
     ]
    }
   ],
   "source": [
    "for i in range(5):\n",
    "    print(hn[i*5:i*5+5])"
   ]
  },
  {
   "cell_type": "code",
   "execution_count": null,
   "id": "ab4c2411",
   "metadata": {},
   "outputs": [],
   "source": []
  }
 ],
 "metadata": {
  "kernelspec": {
   "display_name": "Python 3",
   "language": "python",
   "name": "python3"
  },
  "language_info": {
   "codemirror_mode": {
    "name": "ipython",
    "version": 3
   },
   "file_extension": ".py",
   "mimetype": "text/x-python",
   "name": "python",
   "nbconvert_exporter": "python",
   "pygments_lexer": "ipython3",
   "version": "3.11.1"
  },
  "vscode": {
   "interpreter": {
    "hash": "a8d5ccc7ef4ffc4c72b684ec28a8a22e792618832744b32cffe43e8e028b5aee"
   }
  }
 },
 "nbformat": 4,
 "nbformat_minor": 5
}
